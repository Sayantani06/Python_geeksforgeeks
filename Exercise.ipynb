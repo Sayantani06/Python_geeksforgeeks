{
 "cells": [
  {
   "cell_type": "code",
   "execution_count": 9,
   "id": "68fbc0ec-5233-45d4-b976-fa4330780ebe",
   "metadata": {},
   "outputs": [
    {
     "name": "stdin",
     "output_type": "stream",
     "text": [
      "Enter a list 2,4,6\n"
     ]
    },
    {
     "name": "stdout",
     "output_type": "stream",
     "text": [
      "['6', '4', '2']\n",
      "[6, 4, 2]\n"
     ]
    }
   ],
   "source": [
    "#Given a list, write a Python program to swap first and last element of the list.\n",
    "\n",
    "#Approach 1\n",
    "list1=input(\"Enter a list\").split(',')\n",
    "c=list1[0]\n",
    "list1[0]=list1[-1]\n",
    "list1[-1]=c\n",
    "print(list1)\n",
    "\n",
    "\n",
    "#Approach 2\n",
    "def swap(list1):\n",
    "    c=list1[0]\n",
    "    list1[0]=list1[-1]\n",
    "    list1[-1]=c\n",
    "    print(list1)\n",
    "\n",
    "swap([2,4,6])"
   ]
  },
  {
   "cell_type": "code",
   "execution_count": 13,
   "id": "c74adcfa-555c-43bd-9dc2-07cd60584485",
   "metadata": {},
   "outputs": [],
   "source": [
    "#Given a list in Python and provided the positions of the elements, write a program to swap the two elements in the list. \n",
    "#approach 1\n",
    "def swap(list1,pos1,pos2):\n",
    "    \n",
    "    c=list1[pos1]\n",
    "    list1[pos1]=list1[pos2]\n",
    "    list1[pos2]=c\n",
    "    print(list1)\n",
    "\n",
    "swap([2,3,4,5],pos1=1,pos2=3)\n",
    "\n",
    "\n",
    "# approach 2\n",
    "\n",
    "def swap(list1,pos1,pos2):\n",
    "    \n",
    "    list1[pos1],list2[pos2]=list1[pos2],list1[1]\n",
    "    print(list)\n",
    "\n",
    "swap([2,3,4,5],pos1=1,pos2=3)\n"
   ]
  },
  {
   "cell_type": "code",
   "execution_count": 16,
   "id": "50ff645a-4b2b-460f-8d61-facbf48fcda8",
   "metadata": {},
   "outputs": [
    {
     "name": "stdin",
     "output_type": "stream",
     "text": [
      "Enter a list 2,23,34,5,56,66,7,556,754,78\n"
     ]
    },
    {
     "name": "stdout",
     "output_type": "stream",
     "text": [
      "The length of the list is 10\n"
     ]
    }
   ],
   "source": [
    "#How To Find the Length of a List in Python\n",
    "\n",
    "list1=input(\"Enter a list\").split(',')\n",
    "length=0\n",
    "for i in list1:\n",
    "    length = length+1\n",
    "\n",
    "print(f\"The length of the list is {length}\")"
   ]
  },
  {
   "cell_type": "code",
   "execution_count": 17,
   "id": "5ed97167-0a20-4d52-aee7-e47512e79a63",
   "metadata": {},
   "outputs": [
    {
     "name": "stdout",
     "output_type": "stream",
     "text": [
      " The maximum number is 32 and the minimum number is 23\n"
     ]
    }
   ],
   "source": [
    "#Minimum and maximum of two numbers.\n",
    "\n",
    "list1=[23,32]\n",
    "maximum=0\n",
    "minimum=0\n",
    "\n",
    "if list1[0]>list1[1]:\n",
    "    maximum=list1[0]\n",
    "    minimum=list1[1]\n",
    "\n",
    "else:\n",
    "    maximum=list1[1]\n",
    "    minimum=list1[0]\n",
    "\n",
    "print(f\" The maximum number is {maximum} and the minimum number is {minimum}\")\n"
   ]
  },
  {
   "cell_type": "code",
   "execution_count": 19,
   "id": "dbc5ed9a-bee0-432e-bad9-c5c72e658350",
   "metadata": {},
   "outputs": [
    {
     "name": "stdout",
     "output_type": "stream",
     "text": [
      "True\n"
     ]
    }
   ],
   "source": [
    "#Check if element exists in list in Python\n",
    "\n",
    "#Input: test_list = [1, 6, 3, 5, 3, 4]\n",
    "           # 3  # Check if 3 exist or not.\n",
    "#Output: True\n",
    "\n",
    "\n",
    "test_list = [1, 6, 3, 5, 3, 4]\n",
    "if 3 in test_list:\n",
    "    print(True)\n",
    "else:\n",
    "    print(False)"
   ]
  },
  {
   "cell_type": "code",
   "execution_count": 23,
   "id": "d11ba7e0-ef60-4eac-94be-5a42a30584d9",
   "metadata": {},
   "outputs": [
    {
     "name": "stdout",
     "output_type": "stream",
     "text": [
      "Value doesn't exits\n"
     ]
    },
    {
     "data": {
      "text/plain": [
       "False"
      ]
     },
     "execution_count": 23,
     "metadata": {},
     "output_type": "execute_result"
    }
   ],
   "source": [
    "def element_checker(list1,element):\n",
    "    try:\n",
    "        list1.index(element)\n",
    "        return True\n",
    "    except ValueError:\n",
    "        print(\"Value doesn't exits\")\n",
    "        return False\n",
    "\n",
    "element_checker(test_list,7)\n",
    "    "
   ]
  },
  {
   "cell_type": "code",
   "execution_count": 26,
   "id": "4934681f-ec10-4f53-989e-7f1584956678",
   "metadata": {},
   "outputs": [
    {
     "name": "stdin",
     "output_type": "stream",
     "text": [
      "Enter a list 4,5,1,2,9,7,10,8\n"
     ]
    },
    {
     "name": "stdout",
     "output_type": "stream",
     "text": [
      " Sum : 46\n",
      " Average : 5.75\n"
     ]
    }
   ],
   "source": [
    "#Find sum and average of List in Python\n",
    "#Input: [4, 5, 1, 2, 9, 7, 10, 8]\n",
    "#Output:\n",
    "#sum =  46\n",
    "#average =  5.75\n",
    "\n",
    "list1=input(\"Enter a list\").split(',')\n",
    "sum=0\n",
    "avg=0\n",
    "for i in list1:\n",
    "    sum=sum+int(i)\n",
    "\n",
    "avg=sum/len(list1)\n",
    "print(f\" Sum : {sum}\")\n",
    "print(f\" Average : {avg}\")"
   ]
  },
  {
   "cell_type": "code",
   "execution_count": 31,
   "id": "14afcda8-843f-4b87-91ec-9db52145fc16",
   "metadata": {},
   "outputs": [
    {
     "name": "stdout",
     "output_type": "stream",
     "text": [
      "[3, 13, 17, 7]\n"
     ]
    }
   ],
   "source": [
    "#Python | Sum of number digits in List\n",
    "#Input:  [12, 67, 98, 34]\n",
    "#Output: [3, 13, 17, 7]\n",
    "\n",
    "list1= [12, 67, 98, 34]\n",
    "list2=[]\n",
    "\n",
    "\n",
    "for i in list1:\n",
    "    sum=0\n",
    "    for j in str(i):\n",
    "        sum= sum+int(j)\n",
    "    list2.append(sum)\n",
    "print(list2)"
   ]
  },
  {
   "cell_type": "code",
   "execution_count": 32,
   "id": "a04b699c-f0af-4350-9060-fb4a38a67791",
   "metadata": {},
   "outputs": [
    {
     "name": "stdout",
     "output_type": "stream",
     "text": [
      "6\n"
     ]
    }
   ],
   "source": [
    "#Input :  list1 = [1, 2, 3]\n",
    "#Output : 6\n",
    "\n",
    "list1= [1,2,3]\n",
    "mul=1\n",
    "for i in list1:\n",
    "    mul=i*mul\n",
    "print(mul)"
   ]
  },
  {
   "cell_type": "code",
   "execution_count": 35,
   "id": "f7caf862-228d-4d0b-b6c3-699c65ce2deb",
   "metadata": {},
   "outputs": [
    {
     "name": "stdout",
     "output_type": "stream",
     "text": [
      "4\n"
     ]
    }
   ],
   "source": [
    "#Input : list1 = [10, 20, 4]\n",
    "#Output : 4\n",
    "\n",
    "list1 = [ 10, 20, 4 ]\n",
    "smallest= list1[0]\n",
    "for i in list1:\n",
    "    if i<smallest:\n",
    "        smallest=i\n",
    "\n",
    "print(smallest)\n",
    "        "
   ]
  },
  {
   "cell_type": "code",
   "execution_count": 36,
   "id": "020d3761-1978-4d96-b440-f94a4d93575b",
   "metadata": {},
   "outputs": [
    {
     "name": "stdout",
     "output_type": "stream",
     "text": [
      "20\n"
     ]
    }
   ],
   "source": [
    "#Input : list1 = [10, 20, 4]\n",
    "#Output : 20\n",
    "list1 = [ 10, 20, 4 ]\n",
    "greatest= list1[0]\n",
    "for i in list1:\n",
    "    if i>greatest:\n",
    "        greatest=i\n",
    "\n",
    "print(greatest)\n",
    "     "
   ]
  },
  {
   "cell_type": "code",
   "execution_count": 44,
   "id": "5f366ee2-78fe-425c-aa8d-936497df5c14",
   "metadata": {},
   "outputs": [
    {
     "name": "stdout",
     "output_type": "stream",
     "text": [
      "10\n"
     ]
    }
   ],
   "source": [
    "#Input: list1 = [10, 20, 4]\n",
    "#Output: 10\n",
    "\n",
    "list1=[10, 20, 4]\n",
    "list1.sort()\n",
    "length=len(list1)\n",
    "print(list1[length-2])"
   ]
  },
  {
   "cell_type": "code",
   "execution_count": 45,
   "id": "82d7feb3-a62b-498b-b815-bc977a3a6a6c",
   "metadata": {},
   "outputs": [
    {
     "name": "stdout",
     "output_type": "stream",
     "text": [
      "[2, 64, 14]\n"
     ]
    }
   ],
   "source": [
    "#Input: list1 = [2, 7, 5, 64, 14]\n",
    "#Output: [2, 64, 14]\n",
    "\n",
    "list1 = [2, 7, 5, 64, 14]\n",
    "list2=[]\n",
    "for i in list1:\n",
    "    if i%2 ==0:\n",
    "        list2.append(i)\n",
    "print(list2)"
   ]
  },
  {
   "cell_type": "code",
   "execution_count": 46,
   "id": "b9a518ce-4abd-4969-a36c-0f46f5825589",
   "metadata": {},
   "outputs": [
    {
     "name": "stdout",
     "output_type": "stream",
     "text": [
      "[7, 5]\n"
     ]
    }
   ],
   "source": [
    "#Input: list1 = [2, 7, 5, 64, 14]\n",
    "#Output: [7, 5]\n",
    "\n",
    "list1 = [2, 7, 5, 64, 14]\n",
    "list2=[]\n",
    "for i in list1:\n",
    "    if i%2 !=0:\n",
    "        list2.append(i)\n",
    "print(list2)"
   ]
  },
  {
   "cell_type": "code",
   "execution_count": 51,
   "id": "aa574307-fd1f-4a98-9a51-0302f37002a5",
   "metadata": {},
   "outputs": [
    {
     "name": "stdout",
     "output_type": "stream",
     "text": [
      "4 6 8 10 12 14\n",
      "4, 6, 8, 10, 12, 14, "
     ]
    }
   ],
   "source": [
    "#Python program to print all even numbers in a range\n",
    "#Input: start = 4, end = 15\n",
    "#Output: 4, 6, 8, 10, 12, 14\n",
    "list1=[]\n",
    "for i in range(4,15):\n",
    "    if i%2 == 0:\n",
    "        list1.append(i)\n",
    "print(*list1)\n",
    "\n",
    "\n",
    "\n",
    "for i in range(4,15):\n",
    "    if i%2 == 0:\n",
    "        print(i , end =\", \")\n"
   ]
  },
  {
   "cell_type": "code",
   "execution_count": 52,
   "id": "b1234c5a-e7d3-4eac-9f3a-2e67bfa387a7",
   "metadata": {},
   "outputs": [
    {
     "name": "stdout",
     "output_type": "stream",
     "text": [
      "5, 7, 9, 11, 13, "
     ]
    }
   ],
   "source": [
    "#Input: start = 4, end = 15\n",
    "#Output: 5, 7, 9, 11, 13, 15\n",
    "\n",
    "for i in range(4,15):\n",
    "    if i%2 != 0:\n",
    "        print(i , end =\", \")\n"
   ]
  },
  {
   "cell_type": "code",
   "execution_count": 54,
   "id": "fc828c01-9b64-4e42-a1c4-b4d8edc99ad1",
   "metadata": {},
   "outputs": [
    {
     "name": "stdin",
     "output_type": "stream",
     "text": [
      "Enter the number 2,7,5,64,14\n"
     ]
    },
    {
     "name": "stdout",
     "output_type": "stream",
     "text": [
      " Even = 3 , odd = 2\n"
     ]
    }
   ],
   "source": [
    "#Python program to count Even and Odd numbers in a List\n",
    "#Input: list1 = [2, 7, 5, 64, 14]\n",
    "#Output: Even = 3, odd = 2\n",
    "\n",
    "list1= input(\"Enter the number\").split(',')\n",
    "even_count=0\n",
    "odd_count=0\n",
    "\n",
    "for i in list1:\n",
    "    if int(i)%2==0:\n",
    "        even_count=even_count+1\n",
    "    else:\n",
    "        odd_count=odd_count+1\n",
    "\n",
    "print(f\" Even = {even_count} , odd = {odd_count}\")"
   ]
  },
  {
   "cell_type": "code",
   "execution_count": 57,
   "id": "a9dcb6e2-a445-426b-9a40-116d050aed75",
   "metadata": {},
   "outputs": [
    {
     "name": "stdin",
     "output_type": "stream",
     "text": [
      "Enter the number 2,-7,8\n"
     ]
    },
    {
     "name": "stdout",
     "output_type": "stream",
     "text": [
      "2, 8, "
     ]
    }
   ],
   "source": [
    "#Python program to print positive numbers in a list\n",
    "#Input: list1 = [12, -7, 5, 64, -14]\n",
    "# Output: 12, 5, 64\n",
    "list1= input(\"Enter the number\").split(',')\n",
    "\n",
    "for i in list1:\n",
    "    if int(i) >= 0:\n",
    "        print(i , end=\", \")"
   ]
  },
  {
   "cell_type": "code",
   "execution_count": 58,
   "id": "259a2106-3c7a-4231-9f61-8626c05b8584",
   "metadata": {},
   "outputs": [
    {
     "name": "stdin",
     "output_type": "stream",
     "text": [
      "Enter the number 12,-7,5,64,16\n"
     ]
    },
    {
     "name": "stdout",
     "output_type": "stream",
     "text": [
      "-7, "
     ]
    }
   ],
   "source": [
    "#Python program to print negative numbers in a list\n",
    "\n",
    "list1= input(\"Enter the number\").split(',')\n",
    "\n",
    "for i in list1:\n",
    "    if int(i) <= 0:\n",
    "        print(i , end=\", \")"
   ]
  },
  {
   "cell_type": "code",
   "execution_count": 60,
   "id": "e520a17d-ef58-41cf-91d1-aa012d7d2317",
   "metadata": {},
   "outputs": [
    {
     "name": "stdout",
     "output_type": "stream",
     "text": [
      "0, 1, 2, 3, 4, "
     ]
    }
   ],
   "source": [
    "#Input: start = -4, end = 5\n",
    "#Output: 0, 1, 2, 3, 4, 5 \n",
    "\n",
    "for i in range(-4,5):\n",
    "    if i >= 0:\n",
    "        print(i, end=\", \")\n",
    "        "
   ]
  },
  {
   "cell_type": "code",
   "execution_count": 62,
   "id": "4686166d-4552-445b-a79b-88feb61f7a8c",
   "metadata": {},
   "outputs": [
    {
     "name": "stdout",
     "output_type": "stream",
     "text": [
      "-4, -3, -2, -1, "
     ]
    }
   ],
   "source": [
    "#Input: a = -4, b = 5\n",
    "#Output: -4, -3, -2, -1\n",
    "for i in range(-4,5):\n",
    "    if i < 0:\n",
    "        print(i, end=\", \")\n",
    "   "
   ]
  },
  {
   "cell_type": "code",
   "execution_count": 63,
   "id": "38391f18-0f6f-423e-89a9-b6d0f58ffa20",
   "metadata": {},
   "outputs": [
    {
     "name": "stdin",
     "output_type": "stream",
     "text": [
      "Enter the number 12,15,3,10\n",
      "Enter the number you want to remove 12,3\n"
     ]
    },
    {
     "name": "stdout",
     "output_type": "stream",
     "text": [
      "['15', '10']\n"
     ]
    }
   ],
   "source": [
    "#Input: [12, 15, 3, 10]\n",
    "#Output: Remove = [12, 3], New_List = [15, 10]\n",
    "\n",
    "list1= input(\"Enter the number\").split(',')\n",
    "\n",
    "list2= input(\"Enter the number you want to remove\").split(\",\")\n",
    "\n",
    "for i in list2:\n",
    "    list1.remove(i)\n",
    "\n",
    "print(list1)"
   ]
  },
  {
   "cell_type": "code",
   "execution_count": 69,
   "id": "5d801bb7-808a-4261-a394-0c18304872a0",
   "metadata": {},
   "outputs": [
    {
     "name": "stdout",
     "output_type": "stream",
     "text": [
      "[-1]\n"
     ]
    }
   ],
   "source": [
    "#Input :  list = [-1, 1, -1, 8]\n",
    "#Output : output_list = [-1]\n",
    "\n",
    "list1 = [-1, 1, -1, 8]\n",
    "\n",
    "unique_list=[]\n",
    "duplicate=[]\n",
    "\n",
    "for i in list1:\n",
    "    if i not in unique_list:\n",
    "        unique_list.append(i)\n",
    "    elif i not in duplicate:\n",
    "        duplicate.append(i)\n",
    "    \n",
    "print(duplicate)    \n",
    "    "
   ]
  },
  {
   "cell_type": "code",
   "execution_count": 70,
   "id": "f1280a1e-fc0e-4614-8211-22f2c959b5d4",
   "metadata": {},
   "outputs": [
    {
     "name": "stdout",
     "output_type": "stream",
     "text": [
      "[5, 6, 3, 9]\n"
     ]
    }
   ],
   "source": [
    "#Python – Remove empty List from List\n",
    "#test_list = [5, 6, [], 3, [], [], 9]\n",
    "\n",
    "test_list = [5, 6, [], 3, [], [], 9]\n",
    "res=[]\n",
    "for i in test_list:\n",
    "    if i != []:\n",
    "        res.append(i)\n",
    "print(res)"
   ]
  },
  {
   "cell_type": "code",
   "execution_count": 72,
   "id": "cd8336a7-18b9-4cc9-98a0-1006adf3eb32",
   "metadata": {},
   "outputs": [
    {
     "data": {
      "text/plain": [
       "[5, 6, 3, 9]"
      ]
     },
     "execution_count": 72,
     "metadata": {},
     "output_type": "execute_result"
    }
   ],
   "source": [
    "res1=[i for i in test_list if i != []]\n",
    "res1"
   ]
  },
  {
   "cell_type": "code",
   "execution_count": 90,
   "id": "96f38d4c-7673-4af0-a4d4-d1490493e6f1",
   "metadata": {},
   "outputs": [
    {
     "data": {
      "text/plain": [
       "[{'name': 'Gfg', 'id': 3}, {'name': 'is', 'id': 8}]"
      ]
     },
     "execution_count": 90,
     "metadata": {},
     "output_type": "execute_result"
    }
   ],
   "source": [
    "#Input : test_list = [“Gfg”, 3, “is”, 8], key_list = [“name”, “id”] \n",
    "#Output : [{‘name’: ‘Gfg’, ‘id’: 3}, {‘name’: ‘is’, ‘id’: 8}] \n",
    "\n",
    "\n",
    "test_list = [\"Gfg\", 3, \"is\", 8]\n",
    "key_list = [\"name\", \"id\"]\n",
    "\n",
    "n = len(test_list)\n",
    "res = [{key_list[0]: test_list[idx], key_list[1]: test_list[idx + 1]}\n",
    "       for idx in range(0, n, 2)]\n",
    "\n",
    "res"
   ]
  },
  {
   "cell_type": "code",
   "execution_count": 94,
   "id": "ae6c2442-457c-441f-b845-46f4b20de619",
   "metadata": {},
   "outputs": [
    {
     "data": {
      "text/plain": [
       "{('a', 'b'): (1, 2), ('c', 'd'): (3, 4), ('e', 'f'): (5, 6)}"
      ]
     },
     "execution_count": 94,
     "metadata": {},
     "output_type": "execute_result"
    }
   ],
   "source": [
    "test_list = [['a', 'b', 1, 2], ['c', 'd', 3, 4], ['e', 'f', 5, 6]]\n",
    "\n",
    "res=dict()\n",
    "\n",
    "for i in test_list:\n",
    "    res[tuple(i[:2])]=tuple(i[2:])\n",
    "\n",
    "res\n",
    "    "
   ]
  },
  {
   "cell_type": "code",
   "execution_count": 95,
   "id": "405804ec-0886-4dc5-bbb6-54a4354640ab",
   "metadata": {},
   "outputs": [
    {
     "name": "stdout",
     "output_type": "stream",
     "text": [
      "[[5, 6], [5, 7]]\n"
     ]
    }
   ],
   "source": [
    "#Input --list1 : [[1, 2], [3, 4], [5, 6]]\n",
    "#Input -- list2 : [[3, 4], [5, 7], [1, 2]]\n",
    "#Output -- The uncommon of two lists is : [[5, 6], [5, 7]]\n",
    "\n",
    "\n",
    "list1=[[1, 2], [3, 4], [5, 6]]\n",
    "list2=[[3, 4], [5, 7], [1, 2]]\n",
    "\n",
    "output=[]\n",
    "\n",
    "for i in list1:\n",
    "    if i not in list2:\n",
    "        output.append(i)\n",
    "\n",
    "for i in list2:\n",
    "    if i not in list1:\n",
    "        output.append(i)\n",
    "\n",
    "print(output)\n",
    "        "
   ]
  },
  {
   "cell_type": "code",
   "execution_count": 109,
   "id": "8371fed2-e8c7-4e06-8e6f-f24c81a77a88",
   "metadata": {},
   "outputs": [
    {
     "name": "stdout",
     "output_type": "stream",
     "text": [
      "8\n"
     ]
    }
   ],
   "source": [
    "#Input : test_list = [[4, 5, 5], [2, 7, 4], [8, 6, 3]]\n",
    "#Output : 7\n",
    "\n",
    "#Explanation : Random number extracted from Matrix.\n",
    "\n",
    "import random\n",
    "test_list = [[4, 5, 5], [2, 7, 4], [8, 6, 3]]\n",
    "a=random.choice(test_list)\n",
    "b=random.choice(a)\n",
    "print (b)\n"
   ]
  },
  {
   "cell_type": "code",
   "execution_count": 110,
   "id": "5cec3865-5f58-480c-9323-a125840afddb",
   "metadata": {},
   "outputs": [
    {
     "name": "stdout",
     "output_type": "stream",
     "text": [
      "6\n"
     ]
    }
   ],
   "source": [
    "#Input : test_list = [[4, 5, 5], [2, 7, 4], [8, 6, 3]], r_no = 2\n",
    "#Output : 6\n",
    "#Explanation : Random number extracted from 2nd row from Matrix.\n",
    "\n",
    "import random\n",
    "test_list = [[4, 5, 5], [2, 7, 4], [8, 6, 3]]\n",
    "r_no=2\n",
    "\n",
    "a=random.choice(test_list[r_no])\n",
    "print (a)\n"
   ]
  },
  {
   "cell_type": "code",
   "execution_count": 114,
   "id": "c8e14f69-3962-4b4b-ae0a-14d254f6dfba",
   "metadata": {},
   "outputs": [
    {
     "name": "stdout",
     "output_type": "stream",
     "text": [
      " No of unique items are : 5\n"
     ]
    }
   ],
   "source": [
    "#count unique values inside a list\n",
    "#Input : input_list = [1, 2, 2, 5, 8, 4, 4, 8]\n",
    "#Output : No of unique items are: 5\n",
    "\n",
    "input_list = [1, 2, 2, 5, 8, 4, 4, 8]\n",
    "\n",
    "list1=list(set(input_list))\n",
    "print(f\" No of unique items are : {len(list1)}\")"
   ]
  },
  {
   "cell_type": "code",
   "execution_count": 117,
   "id": "c38045c1-8e2e-4ad0-9e01-4a91c49f6737",
   "metadata": {},
   "outputs": [
    {
     "name": "stdout",
     "output_type": "stream",
     "text": [
      "Duplication removal list products : 90\n"
     ]
    }
   ],
   "source": [
    "#List product excluding duplicates\n",
    "#test_list = [1, 3, 5, 6, 3, 5, 6, 1]\n",
    "#Output: Duplication removal list product : 90\n",
    "\n",
    "test_list = [1, 3, 5, 6, 3, 5, 6, 1]\n",
    "list1= set(test_list)\n",
    "mul=1\n",
    "for i in list1:\n",
    "    mul = mul *i\n",
    "\n",
    "print(f\"Duplication removal list products : {mul}\")\n",
    "    "
   ]
  },
  {
   "cell_type": "code",
   "execution_count": 122,
   "id": "eacb0629-a927-442b-9526-6f272c18acdb",
   "metadata": {},
   "outputs": [
    {
     "name": "stdout",
     "output_type": "stream",
     "text": [
      "[3, 4]\n"
     ]
    }
   ],
   "source": [
    "#Input : test_list = [4, 6, 4, 3, 3, 4, 3, 4, 3, 8], K = 3 \n",
    "#Output : [4, 3] \n",
    "#Explanation : Both elements occur 4 times. \n",
    "\n",
    "test_list = [4, 6, 4, 3, 3, 4, 3, 4, 3, 8]\n",
    "K = 3\n",
    "list1=list(set(test_list))\n",
    "list2=[]\n",
    "for i in list1:\n",
    "    cnt= test_list.count(i)\n",
    "    if cnt >= K:\n",
    "         list2.append(i)\n",
    "\n",
    "\n",
    "\n",
    "print(list2)"
   ]
  },
  {
   "cell_type": "code",
   "execution_count": 127,
   "id": "7afe622d-0901-43cd-9790-2e2e9ff5075b",
   "metadata": {},
   "outputs": [
    {
     "name": "stdout",
     "output_type": "stream",
     "text": [
      "[5]\n"
     ]
    }
   ],
   "source": [
    "#Input : [4, 5, 5, 5, 3, 8]\n",
    "\n",
    "#Output : 5\n",
    "\n",
    "list1= [4, 5, 5, 5, 3, 8]\n",
    "\n",
    "length= len(list1)\n",
    "list2=[]\n",
    "\n",
    "for i in range(length-2):\n",
    "    \n",
    "    if list1[i] ==list1[i+1] == list1[i+2]:\n",
    "        list2.append(list1[i])\n",
    "\n",
    "print(list2)\n",
    "\n"
   ]
  },
  {
   "cell_type": "code",
   "execution_count": null,
   "id": "96205bb8-270f-437d-bd6a-d985035c6080",
   "metadata": {},
   "outputs": [],
   "source": []
  }
 ],
 "metadata": {
  "kernelspec": {
   "display_name": "Python 3 (ipykernel)",
   "language": "python",
   "name": "python3"
  },
  "language_info": {
   "codemirror_mode": {
    "name": "ipython",
    "version": 3
   },
   "file_extension": ".py",
   "mimetype": "text/x-python",
   "name": "python",
   "nbconvert_exporter": "python",
   "pygments_lexer": "ipython3",
   "version": "3.12.2"
  }
 },
 "nbformat": 4,
 "nbformat_minor": 5
}
